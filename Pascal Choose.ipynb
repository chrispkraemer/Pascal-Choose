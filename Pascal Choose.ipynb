{
 "cells": [
  {
   "cell_type": "code",
   "execution_count": 1,
   "metadata": {},
   "outputs": [
    {
     "name": "stdout",
     "output_type": "stream",
     "text": [
      "252\n"
     ]
    }
   ],
   "source": [
    "\n",
    "def PascalChoose(n,k):\n",
    "    A = [[0 for i in range(n+1)] for g in range(n+1)]\n",
    "    A[0][0] = 1\n",
    "    if A[n-k][k] != 0:\n",
    "        return A[n-k][k]\n",
    "    else:\n",
    "        return PascalFind(n-k,k,A)\n",
    "    \n",
    "def PascalFind(x,y,A):\n",
    "    if x-1 < 0 or y-1 < 0:\n",
    "        if A[x][y] == 0:\n",
    "            A[x][y] = 1\n",
    "            A[y][x] = 1\n",
    "        return A[x][y]\n",
    "    else:\n",
    "        A[x][y] = PascalFind(x-1,y,A) + PascalFind(x,y-1,A)\n",
    "        A[y][x] = A[x][y]\n",
    "        return A[x][y]\n",
    "            \n",
    "\n",
    "print(PascalChoose(10,5))"
   ]
  },
  {
   "cell_type": "markdown",
   "metadata": {},
   "source": [
    "\n"
   ]
  }
 ],
 "metadata": {
  "kernelspec": {
   "display_name": "Python 3",
   "language": "python",
   "name": "python3"
  },
  "language_info": {
   "codemirror_mode": {
    "name": "ipython",
    "version": 3
   },
   "file_extension": ".py",
   "mimetype": "text/x-python",
   "name": "python",
   "nbconvert_exporter": "python",
   "pygments_lexer": "ipython3",
   "version": "3.6.1"
  }
 },
 "nbformat": 4,
 "nbformat_minor": 2
}
